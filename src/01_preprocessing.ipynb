{
 "cells": [
  {
   "cell_type": "code",
   "execution_count": 30,
   "metadata": {},
   "outputs": [
    {
     "name": "stdout",
     "output_type": "stream",
     "text": [
      "Requirement already satisfied: pandas in c:\\users\\1cnac\\anaconda3\\lib\\site-packages (1.4.4)\n",
      "Requirement already satisfied: numpy in c:\\users\\1cnac\\anaconda3\\lib\\site-packages (1.21.5)\n",
      "Requirement already satisfied: scikit-learn in c:\\users\\1cnac\\anaconda3\\lib\\site-packages (1.0.2)\n",
      "Requirement already satisfied: seaborn in c:\\users\\1cnac\\anaconda3\\lib\\site-packages (0.11.2)\n",
      "Requirement already satisfied: matplotlib in c:\\users\\1cnac\\anaconda3\\lib\\site-packages (3.5.0)\n",
      "Requirement already satisfied: pytz>=2020.1 in c:\\users\\1cnac\\anaconda3\\lib\\site-packages (from pandas) (2022.1)\n",
      "Requirement already satisfied: python-dateutil>=2.8.1 in c:\\users\\1cnac\\anaconda3\\lib\\site-packages (from pandas) (2.8.2)\n",
      "Requirement already satisfied: scipy>=1.1.0 in c:\\users\\1cnac\\anaconda3\\lib\\site-packages (from scikit-learn) (1.9.1)\n",
      "Requirement already satisfied: joblib>=0.11 in c:\\users\\1cnac\\anaconda3\\lib\\site-packages (from scikit-learn) (1.1.0)\n",
      "Requirement already satisfied: threadpoolctl>=2.0.0 in c:\\users\\1cnac\\anaconda3\\lib\\site-packages (from scikit-learn) (2.2.0)\n",
      "Requirement already satisfied: packaging>=20.0 in c:\\users\\1cnac\\anaconda3\\lib\\site-packages (from matplotlib) (24.1)\n",
      "Requirement already satisfied: kiwisolver>=1.0.1 in c:\\users\\1cnac\\anaconda3\\lib\\site-packages (from matplotlib) (1.4.2)\n",
      "Requirement already satisfied: cycler>=0.10 in c:\\users\\1cnac\\anaconda3\\lib\\site-packages (from matplotlib) (0.11.0)\n",
      "Requirement already satisfied: pyparsing>=2.2.1 in c:\\users\\1cnac\\anaconda3\\lib\\site-packages (from matplotlib) (3.0.9)\n",
      "Requirement already satisfied: fonttools>=4.22.0 in c:\\users\\1cnac\\anaconda3\\lib\\site-packages (from matplotlib) (4.25.0)\n",
      "Requirement already satisfied: pillow>=6.2.0 in c:\\users\\1cnac\\anaconda3\\lib\\site-packages (from matplotlib) (9.2.0)\n",
      "Requirement already satisfied: setuptools-scm>=4 in c:\\users\\1cnac\\anaconda3\\lib\\site-packages (from matplotlib) (8.1.0)\n",
      "Requirement already satisfied: six>=1.5 in c:\\users\\1cnac\\anaconda3\\lib\\site-packages (from python-dateutil>=2.8.1->pandas) (1.16.0)\n",
      "Requirement already satisfied: typing-extensions in c:\\users\\1cnac\\anaconda3\\lib\\site-packages (from setuptools-scm>=4->matplotlib) (4.3.0)\n",
      "Requirement already satisfied: tomli>=1 in c:\\users\\1cnac\\anaconda3\\lib\\site-packages (from setuptools-scm>=4->matplotlib) (2.0.1)\n",
      "Requirement already satisfied: setuptools in c:\\users\\1cnac\\anaconda3\\lib\\site-packages (from setuptools-scm>=4->matplotlib) (75.3.0)\n",
      "Note: you may need to restart the kernel to use updated packages.\n"
     ]
    },
    {
     "data": {
      "application/vnd.microsoft.datawrangler.viewer.v0+json": {
       "columns": [
        {
         "name": "index",
         "rawType": "int64",
         "type": "integer"
        },
        {
         "name": "ID",
         "rawType": "object",
         "type": "string"
        },
        {
         "name": "Genero",
         "rawType": "object",
         "type": "string"
        },
        {
         "name": "Casado",
         "rawType": "object",
         "type": "string"
        },
        {
         "name": "Edad",
         "rawType": "int64",
         "type": "integer"
        },
        {
         "name": "Graduado",
         "rawType": "object",
         "type": "string"
        },
        {
         "name": "Profesion",
         "rawType": "object",
         "type": "string"
        },
        {
         "name": "Experiencia_laboral",
         "rawType": "object",
         "type": "string"
        },
        {
         "name": "Gastoscore",
         "rawType": "object",
         "type": "string"
        },
        {
         "name": "Family_Size",
         "rawType": "int64",
         "type": "integer"
        },
        {
         "name": "anno_nacimiento",
         "rawType": "int64",
         "type": "integer"
        },
        {
         "name": "Generacion",
         "rawType": "object",
         "type": "string"
        },
        {
         "name": "Ingresos_anuales_brutos",
         "rawType": "int64",
         "type": "integer"
        },
        {
         "name": "Provincia",
         "rawType": "object",
         "type": "string"
        },
        {
         "name": "Digital_encuesta",
         "rawType": "int64",
         "type": "integer"
        },
        {
         "name": "Gasto_medio_mensual_cuota",
         "rawType": "int64",
         "type": "integer"
        },
        {
         "name": "Abandono",
         "rawType": "int64",
         "type": "integer"
        },
        {
         "name": "Dias_cliente",
         "rawType": "int64",
         "type": "integer"
        },
        {
         "name": "Campanna_anno",
         "rawType": "float64",
         "type": "float"
        }
       ],
       "conversionMethod": "pd.DataFrame",
       "ref": "74fb42ce-6c32-4040-86c2-b7d0f29e4744",
       "rows": [
        [
         "0",
         "CLI10",
         "F",
         "Si",
         "67",
         "Si",
         "Ingeniero",
         "+20annos",
         "Bajo",
         "3",
         "1957",
         "Generacion X",
         "93442",
         "Segovia",
         "1385",
         "80",
         "1",
         "195",
         null
        ],
        [
         "1",
         "CLI100",
         "M",
         "Si",
         "64",
         "Si",
         "Medico",
         "+20annos",
         "Medio",
         "2",
         "1960",
         "Generacion X",
         "99774",
         "Alicante",
         "1052",
         "50",
         "1",
         "360",
         "5.0"
        ],
        [
         "2",
         "CLI1000",
         "M",
         "Si",
         "65",
         "Si",
         "Artista",
         "+20annos",
         "Medio",
         "3",
         "1959",
         "Generacion X",
         "36756",
         "Toledo",
         "1717",
         "30",
         "0",
         "407",
         "3.0"
        ],
        [
         "3",
         "CLI10000",
         "M",
         "No",
         "33",
         "No",
         "Funcionario",
         "10-20annos",
         "Bajo",
         "4",
         "1991",
         "Millennials",
         "24616",
         "Leon",
         "1606",
         "30",
         "0",
         "544",
         "4.0"
        ],
        [
         "4",
         "CLI10001",
         "M",
         "Si",
         "52",
         "No",
         "Otros",
         "+20annos",
         "Medio",
         "2",
         "1972",
         "Generacion X",
         "29834",
         "LLeida",
         "1346",
         "30",
         "1",
         "170",
         null
        ]
       ],
       "shape": {
        "columns": 18,
        "rows": 5
       }
      },
      "text/html": [
       "<div>\n",
       "<style scoped>\n",
       "    .dataframe tbody tr th:only-of-type {\n",
       "        vertical-align: middle;\n",
       "    }\n",
       "\n",
       "    .dataframe tbody tr th {\n",
       "        vertical-align: top;\n",
       "    }\n",
       "\n",
       "    .dataframe thead th {\n",
       "        text-align: right;\n",
       "    }\n",
       "</style>\n",
       "<table border=\"1\" class=\"dataframe\">\n",
       "  <thead>\n",
       "    <tr style=\"text-align: right;\">\n",
       "      <th></th>\n",
       "      <th>ID</th>\n",
       "      <th>Genero</th>\n",
       "      <th>Casado</th>\n",
       "      <th>Edad</th>\n",
       "      <th>Graduado</th>\n",
       "      <th>Profesion</th>\n",
       "      <th>Experiencia_laboral</th>\n",
       "      <th>Gastoscore</th>\n",
       "      <th>Family_Size</th>\n",
       "      <th>anno_nacimiento</th>\n",
       "      <th>Generacion</th>\n",
       "      <th>Ingresos_anuales_brutos</th>\n",
       "      <th>Provincia</th>\n",
       "      <th>Digital_encuesta</th>\n",
       "      <th>Gasto_medio_mensual_cuota</th>\n",
       "      <th>Abandono</th>\n",
       "      <th>Dias_cliente</th>\n",
       "      <th>Campanna_anno</th>\n",
       "    </tr>\n",
       "  </thead>\n",
       "  <tbody>\n",
       "    <tr>\n",
       "      <th>0</th>\n",
       "      <td>CLI10</td>\n",
       "      <td>F</td>\n",
       "      <td>Si</td>\n",
       "      <td>67</td>\n",
       "      <td>Si</td>\n",
       "      <td>Ingeniero</td>\n",
       "      <td>+20annos</td>\n",
       "      <td>Bajo</td>\n",
       "      <td>3</td>\n",
       "      <td>1957</td>\n",
       "      <td>Generacion X</td>\n",
       "      <td>93442</td>\n",
       "      <td>Segovia</td>\n",
       "      <td>1385</td>\n",
       "      <td>80</td>\n",
       "      <td>1</td>\n",
       "      <td>195</td>\n",
       "      <td>NaN</td>\n",
       "    </tr>\n",
       "    <tr>\n",
       "      <th>1</th>\n",
       "      <td>CLI100</td>\n",
       "      <td>M</td>\n",
       "      <td>Si</td>\n",
       "      <td>64</td>\n",
       "      <td>Si</td>\n",
       "      <td>Medico</td>\n",
       "      <td>+20annos</td>\n",
       "      <td>Medio</td>\n",
       "      <td>2</td>\n",
       "      <td>1960</td>\n",
       "      <td>Generacion X</td>\n",
       "      <td>99774</td>\n",
       "      <td>Alicante</td>\n",
       "      <td>1052</td>\n",
       "      <td>50</td>\n",
       "      <td>1</td>\n",
       "      <td>360</td>\n",
       "      <td>5.0</td>\n",
       "    </tr>\n",
       "    <tr>\n",
       "      <th>2</th>\n",
       "      <td>CLI1000</td>\n",
       "      <td>M</td>\n",
       "      <td>Si</td>\n",
       "      <td>65</td>\n",
       "      <td>Si</td>\n",
       "      <td>Artista</td>\n",
       "      <td>+20annos</td>\n",
       "      <td>Medio</td>\n",
       "      <td>3</td>\n",
       "      <td>1959</td>\n",
       "      <td>Generacion X</td>\n",
       "      <td>36756</td>\n",
       "      <td>Toledo</td>\n",
       "      <td>1717</td>\n",
       "      <td>30</td>\n",
       "      <td>0</td>\n",
       "      <td>407</td>\n",
       "      <td>3.0</td>\n",
       "    </tr>\n",
       "    <tr>\n",
       "      <th>3</th>\n",
       "      <td>CLI10000</td>\n",
       "      <td>M</td>\n",
       "      <td>No</td>\n",
       "      <td>33</td>\n",
       "      <td>No</td>\n",
       "      <td>Funcionario</td>\n",
       "      <td>10-20annos</td>\n",
       "      <td>Bajo</td>\n",
       "      <td>4</td>\n",
       "      <td>1991</td>\n",
       "      <td>Millennials</td>\n",
       "      <td>24616</td>\n",
       "      <td>Leon</td>\n",
       "      <td>1606</td>\n",
       "      <td>30</td>\n",
       "      <td>0</td>\n",
       "      <td>544</td>\n",
       "      <td>4.0</td>\n",
       "    </tr>\n",
       "    <tr>\n",
       "      <th>4</th>\n",
       "      <td>CLI10001</td>\n",
       "      <td>M</td>\n",
       "      <td>Si</td>\n",
       "      <td>52</td>\n",
       "      <td>No</td>\n",
       "      <td>Otros</td>\n",
       "      <td>+20annos</td>\n",
       "      <td>Medio</td>\n",
       "      <td>2</td>\n",
       "      <td>1972</td>\n",
       "      <td>Generacion X</td>\n",
       "      <td>29834</td>\n",
       "      <td>LLeida</td>\n",
       "      <td>1346</td>\n",
       "      <td>30</td>\n",
       "      <td>1</td>\n",
       "      <td>170</td>\n",
       "      <td>NaN</td>\n",
       "    </tr>\n",
       "  </tbody>\n",
       "</table>\n",
       "</div>"
      ],
      "text/plain": [
       "         ID Genero Casado  Edad Graduado    Profesion Experiencia_laboral  \\\n",
       "0     CLI10      F     Si    67       Si    Ingeniero            +20annos   \n",
       "1    CLI100      M     Si    64       Si       Medico            +20annos   \n",
       "2   CLI1000      M     Si    65       Si      Artista            +20annos   \n",
       "3  CLI10000      M     No    33       No  Funcionario          10-20annos   \n",
       "4  CLI10001      M     Si    52       No        Otros            +20annos   \n",
       "\n",
       "  Gastoscore  Family_Size  anno_nacimiento    Generacion  \\\n",
       "0       Bajo            3             1957  Generacion X   \n",
       "1      Medio            2             1960  Generacion X   \n",
       "2      Medio            3             1959  Generacion X   \n",
       "3       Bajo            4             1991   Millennials   \n",
       "4      Medio            2             1972  Generacion X   \n",
       "\n",
       "   Ingresos_anuales_brutos Provincia  Digital_encuesta  \\\n",
       "0                    93442   Segovia              1385   \n",
       "1                    99774  Alicante              1052   \n",
       "2                    36756    Toledo              1717   \n",
       "3                    24616      Leon              1606   \n",
       "4                    29834    LLeida              1346   \n",
       "\n",
       "   Gasto_medio_mensual_cuota  Abandono  Dias_cliente  Campanna_anno  \n",
       "0                         80         1           195            NaN  \n",
       "1                         50         1           360            5.0  \n",
       "2                         30         0           407            3.0  \n",
       "3                         30         0           544            4.0  \n",
       "4                         30         1           170            NaN  "
      ]
     },
     "execution_count": 30,
     "metadata": {},
     "output_type": "execute_result"
    }
   ],
   "source": [
    "#  Paso 1: Importar librerías necesarias\n",
    "%pip install pandas numpy scikit-learn seaborn matplotlib\n",
    "\n",
    "import pandas as pd\n",
    "import numpy as np\n",
    "from sklearn.preprocessing import LabelEncoder, StandardScaler\n",
    "import seaborn as sns\n",
    "import matplotlib.pyplot as plt\n",
    "\n",
    "#  Paso 2: Cargar datos\n",
    "ruta = \"../data/IA_Client_Segment_MODIFICADO.csv\"  # ajusta la ruta si es necesario\n",
    "df = pd.read_csv(ruta)\n",
    "df.head()"
   ]
  },
  {
   "cell_type": "code",
   "execution_count": 31,
   "metadata": {},
   "outputs": [
    {
     "data": {
      "text/plain": [
       "(10806, 18)"
      ]
     },
     "execution_count": 31,
     "metadata": {},
     "output_type": "execute_result"
    }
   ],
   "source": [
    "df.shape"
   ]
  },
  {
   "cell_type": "code",
   "execution_count": 32,
   "metadata": {},
   "outputs": [
    {
     "name": "stdout",
     "output_type": "stream",
     "text": [
      "<class 'pandas.core.frame.DataFrame'>\n",
      "RangeIndex: 10806 entries, 0 to 10805\n",
      "Data columns (total 18 columns):\n",
      " #   Column                     Non-Null Count  Dtype  \n",
      "---  ------                     --------------  -----  \n",
      " 0   ID                         10806 non-null  object \n",
      " 1   Genero                     10806 non-null  object \n",
      " 2   Casado                     10616 non-null  object \n",
      " 3   Edad                       10806 non-null  int64  \n",
      " 4   Graduado                   10703 non-null  object \n",
      " 5   Profesion                  10806 non-null  object \n",
      " 6   Experiencia_laboral        10806 non-null  object \n",
      " 7   Gastoscore                 10806 non-null  object \n",
      " 8   Family_Size                10806 non-null  int64  \n",
      " 9   anno_nacimiento            10806 non-null  int64  \n",
      " 10  Generacion                 10806 non-null  object \n",
      " 11  Ingresos_anuales_brutos    10806 non-null  int64  \n",
      " 12  Provincia                  10806 non-null  object \n",
      " 13  Digital_encuesta           10806 non-null  int64  \n",
      " 14  Gasto_medio_mensual_cuota  10806 non-null  int64  \n",
      " 15  Abandono                   10806 non-null  int64  \n",
      " 16  Dias_cliente               10806 non-null  int64  \n",
      " 17  Campanna_anno              5099 non-null   float64\n",
      "dtypes: float64(1), int64(8), object(9)\n",
      "memory usage: 1.5+ MB\n"
     ]
    }
   ],
   "source": [
    "df.info()"
   ]
  },
  {
   "cell_type": "code",
   "execution_count": 33,
   "metadata": {},
   "outputs": [
    {
     "data": {
      "text/plain": [
       "ID                            object\n",
       "Genero                        object\n",
       "Casado                        object\n",
       "Edad                           int64\n",
       "Graduado                      object\n",
       "Profesion                     object\n",
       "Experiencia_laboral           object\n",
       "Gastoscore                    object\n",
       "Family_Size                    int64\n",
       "anno_nacimiento                int64\n",
       "Generacion                    object\n",
       "Ingresos_anuales_brutos        int64\n",
       "Provincia                     object\n",
       "Digital_encuesta               int64\n",
       "Gasto_medio_mensual_cuota      int64\n",
       "Abandono                       int64\n",
       "Dias_cliente                   int64\n",
       "Campanna_anno                float64\n",
       "dtype: object"
      ]
     },
     "execution_count": 33,
     "metadata": {},
     "output_type": "execute_result"
    }
   ],
   "source": [
    "df.dtypes"
   ]
  },
  {
   "cell_type": "code",
   "execution_count": 34,
   "metadata": {},
   "outputs": [
    {
     "data": {
      "text/plain": [
       "Index(['ID', 'Genero', 'Casado', 'Edad', 'Graduado', 'Profesion',\n",
       "       'Experiencia_laboral', 'Gastoscore', 'Family_Size', 'anno_nacimiento',\n",
       "       'Generacion', 'Ingresos_anuales_brutos', 'Provincia',\n",
       "       'Digital_encuesta', 'Gasto_medio_mensual_cuota', 'Abandono',\n",
       "       'Dias_cliente', 'Campanna_anno'],\n",
       "      dtype='object')"
      ]
     },
     "execution_count": 34,
     "metadata": {},
     "output_type": "execute_result"
    }
   ],
   "source": [
    "df.columns"
   ]
  },
  {
   "cell_type": "code",
   "execution_count": 35,
   "metadata": {},
   "outputs": [
    {
     "data": {
      "application/vnd.microsoft.datawrangler.viewer.v0+json": {
       "columns": [
        {
         "name": "index",
         "rawType": "int64",
         "type": "integer"
        },
        {
         "name": "ID",
         "rawType": "object",
         "type": "string"
        },
        {
         "name": "Genero",
         "rawType": "object",
         "type": "string"
        },
        {
         "name": "Casado",
         "rawType": "object",
         "type": "string"
        },
        {
         "name": "Edad",
         "rawType": "int64",
         "type": "integer"
        },
        {
         "name": "Graduado",
         "rawType": "object",
         "type": "string"
        },
        {
         "name": "Profesion",
         "rawType": "object",
         "type": "string"
        },
        {
         "name": "Experiencia_laboral",
         "rawType": "object",
         "type": "string"
        },
        {
         "name": "Gastoscore",
         "rawType": "object",
         "type": "string"
        },
        {
         "name": "Family_Size",
         "rawType": "int64",
         "type": "integer"
        },
        {
         "name": "anno_nacimiento",
         "rawType": "int64",
         "type": "integer"
        },
        {
         "name": "Generacion",
         "rawType": "object",
         "type": "string"
        },
        {
         "name": "Ingresos_anuales_brutos",
         "rawType": "int64",
         "type": "integer"
        },
        {
         "name": "Provincia",
         "rawType": "object",
         "type": "string"
        },
        {
         "name": "Digital_encuesta",
         "rawType": "int64",
         "type": "integer"
        },
        {
         "name": "Gasto_medio_mensual_cuota",
         "rawType": "int64",
         "type": "integer"
        },
        {
         "name": "Abandono",
         "rawType": "int64",
         "type": "integer"
        },
        {
         "name": "Dias_cliente",
         "rawType": "int64",
         "type": "integer"
        },
        {
         "name": "Campanna_anno",
         "rawType": "float64",
         "type": "float"
        }
       ],
       "conversionMethod": "pd.DataFrame",
       "ref": "7aaee6f3-9a0b-42ec-aa8d-b90964095dec",
       "rows": [
        [
         "0",
         "CLI10",
         "F",
         "Si",
         "67",
         "Si",
         "Ingeniero",
         "+20annos",
         "Bajo",
         "3",
         "1957",
         "Generacion X",
         "93442",
         "Segovia",
         "1385",
         "80",
         "1",
         "195",
         null
        ],
        [
         "1",
         "CLI100",
         "M",
         "Si",
         "64",
         "Si",
         "Medico",
         "+20annos",
         "Medio",
         "2",
         "1960",
         "Generacion X",
         "99774",
         "Alicante",
         "1052",
         "50",
         "1",
         "360",
         "5.0"
        ],
        [
         "2",
         "CLI1000",
         "M",
         "Si",
         "65",
         "Si",
         "Artista",
         "+20annos",
         "Medio",
         "3",
         "1959",
         "Generacion X",
         "36756",
         "Toledo",
         "1717",
         "30",
         "0",
         "407",
         "3.0"
        ]
       ],
       "shape": {
        "columns": 18,
        "rows": 3
       }
      },
      "text/html": [
       "<div>\n",
       "<style scoped>\n",
       "    .dataframe tbody tr th:only-of-type {\n",
       "        vertical-align: middle;\n",
       "    }\n",
       "\n",
       "    .dataframe tbody tr th {\n",
       "        vertical-align: top;\n",
       "    }\n",
       "\n",
       "    .dataframe thead th {\n",
       "        text-align: right;\n",
       "    }\n",
       "</style>\n",
       "<table border=\"1\" class=\"dataframe\">\n",
       "  <thead>\n",
       "    <tr style=\"text-align: right;\">\n",
       "      <th></th>\n",
       "      <th>ID</th>\n",
       "      <th>Genero</th>\n",
       "      <th>Casado</th>\n",
       "      <th>Edad</th>\n",
       "      <th>Graduado</th>\n",
       "      <th>Profesion</th>\n",
       "      <th>Experiencia_laboral</th>\n",
       "      <th>Gastoscore</th>\n",
       "      <th>Family_Size</th>\n",
       "      <th>anno_nacimiento</th>\n",
       "      <th>Generacion</th>\n",
       "      <th>Ingresos_anuales_brutos</th>\n",
       "      <th>Provincia</th>\n",
       "      <th>Digital_encuesta</th>\n",
       "      <th>Gasto_medio_mensual_cuota</th>\n",
       "      <th>Abandono</th>\n",
       "      <th>Dias_cliente</th>\n",
       "      <th>Campanna_anno</th>\n",
       "    </tr>\n",
       "  </thead>\n",
       "  <tbody>\n",
       "    <tr>\n",
       "      <th>0</th>\n",
       "      <td>CLI10</td>\n",
       "      <td>F</td>\n",
       "      <td>Si</td>\n",
       "      <td>67</td>\n",
       "      <td>Si</td>\n",
       "      <td>Ingeniero</td>\n",
       "      <td>+20annos</td>\n",
       "      <td>Bajo</td>\n",
       "      <td>3</td>\n",
       "      <td>1957</td>\n",
       "      <td>Generacion X</td>\n",
       "      <td>93442</td>\n",
       "      <td>Segovia</td>\n",
       "      <td>1385</td>\n",
       "      <td>80</td>\n",
       "      <td>1</td>\n",
       "      <td>195</td>\n",
       "      <td>NaN</td>\n",
       "    </tr>\n",
       "    <tr>\n",
       "      <th>1</th>\n",
       "      <td>CLI100</td>\n",
       "      <td>M</td>\n",
       "      <td>Si</td>\n",
       "      <td>64</td>\n",
       "      <td>Si</td>\n",
       "      <td>Medico</td>\n",
       "      <td>+20annos</td>\n",
       "      <td>Medio</td>\n",
       "      <td>2</td>\n",
       "      <td>1960</td>\n",
       "      <td>Generacion X</td>\n",
       "      <td>99774</td>\n",
       "      <td>Alicante</td>\n",
       "      <td>1052</td>\n",
       "      <td>50</td>\n",
       "      <td>1</td>\n",
       "      <td>360</td>\n",
       "      <td>5.0</td>\n",
       "    </tr>\n",
       "    <tr>\n",
       "      <th>2</th>\n",
       "      <td>CLI1000</td>\n",
       "      <td>M</td>\n",
       "      <td>Si</td>\n",
       "      <td>65</td>\n",
       "      <td>Si</td>\n",
       "      <td>Artista</td>\n",
       "      <td>+20annos</td>\n",
       "      <td>Medio</td>\n",
       "      <td>3</td>\n",
       "      <td>1959</td>\n",
       "      <td>Generacion X</td>\n",
       "      <td>36756</td>\n",
       "      <td>Toledo</td>\n",
       "      <td>1717</td>\n",
       "      <td>30</td>\n",
       "      <td>0</td>\n",
       "      <td>407</td>\n",
       "      <td>3.0</td>\n",
       "    </tr>\n",
       "  </tbody>\n",
       "</table>\n",
       "</div>"
      ],
      "text/plain": [
       "        ID Genero Casado  Edad Graduado  Profesion Experiencia_laboral  \\\n",
       "0    CLI10      F     Si    67       Si  Ingeniero            +20annos   \n",
       "1   CLI100      M     Si    64       Si     Medico            +20annos   \n",
       "2  CLI1000      M     Si    65       Si    Artista            +20annos   \n",
       "\n",
       "  Gastoscore  Family_Size  anno_nacimiento    Generacion  \\\n",
       "0       Bajo            3             1957  Generacion X   \n",
       "1      Medio            2             1960  Generacion X   \n",
       "2      Medio            3             1959  Generacion X   \n",
       "\n",
       "   Ingresos_anuales_brutos Provincia  Digital_encuesta  \\\n",
       "0                    93442   Segovia              1385   \n",
       "1                    99774  Alicante              1052   \n",
       "2                    36756    Toledo              1717   \n",
       "\n",
       "   Gasto_medio_mensual_cuota  Abandono  Dias_cliente  Campanna_anno  \n",
       "0                         80         1           195            NaN  \n",
       "1                         50         1           360            5.0  \n",
       "2                         30         0           407            3.0  "
      ]
     },
     "execution_count": 35,
     "metadata": {},
     "output_type": "execute_result"
    }
   ],
   "source": [
    "df.head(3)"
   ]
  },
  {
   "cell_type": "code",
   "execution_count": 36,
   "metadata": {},
   "outputs": [
    {
     "data": {
      "text/plain": [
       "0"
      ]
     },
     "execution_count": 36,
     "metadata": {},
     "output_type": "execute_result"
    }
   ],
   "source": [
    "df.duplicated().sum()"
   ]
  },
  {
   "cell_type": "code",
   "execution_count": 37,
   "metadata": {},
   "outputs": [
    {
     "data": {
      "text/plain": [
       "ID                              0\n",
       "Genero                          0\n",
       "Casado                        190\n",
       "Edad                            0\n",
       "Graduado                      103\n",
       "Profesion                       0\n",
       "Experiencia_laboral             0\n",
       "Gastoscore                      0\n",
       "Family_Size                     0\n",
       "anno_nacimiento                 0\n",
       "Generacion                      0\n",
       "Ingresos_anuales_brutos         0\n",
       "Provincia                       0\n",
       "Digital_encuesta                0\n",
       "Gasto_medio_mensual_cuota       0\n",
       "Abandono                        0\n",
       "Dias_cliente                    0\n",
       "Campanna_anno                5707\n",
       "dtype: int64"
      ]
     },
     "execution_count": 37,
     "metadata": {},
     "output_type": "execute_result"
    }
   ],
   "source": [
    "df.isnull().sum() # Valores nulos"
   ]
  },
  {
   "cell_type": "code",
   "execution_count": 38,
   "metadata": {},
   "outputs": [],
   "source": [
    "df = df.dropna(subset=['Casado', 'Graduado'])"
   ]
  },
  {
   "cell_type": "code",
   "execution_count": 39,
   "metadata": {},
   "outputs": [
    {
     "data": {
      "text/plain": [
       "Casado      0\n",
       "Graduado    0\n",
       "dtype: int64"
      ]
     },
     "execution_count": 39,
     "metadata": {},
     "output_type": "execute_result"
    }
   ],
   "source": [
    "df[['Casado', 'Graduado']].isnull().sum()"
   ]
  },
  {
   "cell_type": "code",
   "execution_count": 40,
   "metadata": {},
   "outputs": [],
   "source": [
    "df['Campanna_anno'] = df['Campanna_anno'].fillna('0')"
   ]
  },
  {
   "cell_type": "code",
   "execution_count": 41,
   "metadata": {},
   "outputs": [
    {
     "data": {
      "text/plain": [
       "ID                           0\n",
       "Genero                       0\n",
       "Casado                       0\n",
       "Edad                         0\n",
       "Graduado                     0\n",
       "Profesion                    0\n",
       "Experiencia_laboral          0\n",
       "Gastoscore                   0\n",
       "Family_Size                  0\n",
       "anno_nacimiento              0\n",
       "Generacion                   0\n",
       "Ingresos_anuales_brutos      0\n",
       "Provincia                    0\n",
       "Digital_encuesta             0\n",
       "Gasto_medio_mensual_cuota    0\n",
       "Abandono                     0\n",
       "Dias_cliente                 0\n",
       "Campanna_anno                0\n",
       "dtype: int64"
      ]
     },
     "execution_count": 41,
     "metadata": {},
     "output_type": "execute_result"
    }
   ],
   "source": [
    "df.isnull().sum() # Valores nulos"
   ]
  },
  {
   "cell_type": "code",
   "execution_count": 42,
   "metadata": {},
   "outputs": [
    {
     "name": "stdout",
     "output_type": "stream",
     "text": [
      "ID: [<class 'str'>]\n",
      "Genero: [<class 'str'>]\n",
      "Casado: [<class 'str'>]\n",
      "Graduado: [<class 'str'>]\n",
      "Profesion: [<class 'str'>]\n",
      "Experiencia_laboral: [<class 'str'>]\n",
      "Gastoscore: [<class 'str'>]\n",
      "Generacion: [<class 'str'>]\n",
      "Provincia: [<class 'str'>]\n",
      "Campanna_anno: [<class 'str'> <class 'float'>]\n"
     ]
    }
   ],
   "source": [
    "# Revisión de los tipos de datos únicos por cada columna categórica\n",
    "for col in df.select_dtypes(include='object').columns:\n",
    "    tipos = df[col].apply(type).unique()\n",
    "    print(f\"{col}: {tipos}\")"
   ]
  },
  {
   "cell_type": "code",
   "execution_count": 43,
   "metadata": {},
   "outputs": [],
   "source": [
    "# --- Label Encoding para categóricas binarias ---\n",
    "label_col = ['Genero', 'Casado', \"Experiencia_laboral\", 'Graduado', \"Gastoscore\", 'Profesion', 'Generacion', \"Abandono\"]\n",
    "le = LabelEncoder()\n",
    "for col in label_col:\n",
    "    df[col] = le.fit_transform(df[col])"
   ]
  },
  {
   "cell_type": "code",
   "execution_count": 44,
   "metadata": {},
   "outputs": [
    {
     "data": {
      "application/vnd.microsoft.datawrangler.viewer.v0+json": {
       "columns": [
        {
         "name": "index",
         "rawType": "int64",
         "type": "integer"
        },
        {
         "name": "ID",
         "rawType": "object",
         "type": "string"
        },
        {
         "name": "Genero",
         "rawType": "int32",
         "type": "integer"
        },
        {
         "name": "Casado",
         "rawType": "int32",
         "type": "integer"
        },
        {
         "name": "Edad",
         "rawType": "int64",
         "type": "integer"
        },
        {
         "name": "Graduado",
         "rawType": "int32",
         "type": "integer"
        },
        {
         "name": "Profesion",
         "rawType": "int32",
         "type": "integer"
        },
        {
         "name": "Experiencia_laboral",
         "rawType": "int32",
         "type": "integer"
        },
        {
         "name": "Gastoscore",
         "rawType": "int32",
         "type": "integer"
        },
        {
         "name": "Family_Size",
         "rawType": "int64",
         "type": "integer"
        },
        {
         "name": "anno_nacimiento",
         "rawType": "int64",
         "type": "integer"
        },
        {
         "name": "Generacion",
         "rawType": "int32",
         "type": "integer"
        },
        {
         "name": "Ingresos_anuales_brutos",
         "rawType": "int64",
         "type": "integer"
        },
        {
         "name": "Provincia",
         "rawType": "object",
         "type": "string"
        },
        {
         "name": "Digital_encuesta",
         "rawType": "int64",
         "type": "integer"
        },
        {
         "name": "Gasto_medio_mensual_cuota",
         "rawType": "int64",
         "type": "integer"
        },
        {
         "name": "Abandono",
         "rawType": "int64",
         "type": "integer"
        },
        {
         "name": "Dias_cliente",
         "rawType": "int64",
         "type": "integer"
        },
        {
         "name": "Campanna_anno",
         "rawType": "object",
         "type": "string"
        }
       ],
       "conversionMethod": "pd.DataFrame",
       "ref": "9f5f1ab3-9ee0-4a29-8dc8-01326cebe1c9",
       "rows": [
        [
         "0",
         "CLI10",
         "0",
         "1",
         "67",
         "1",
         "4",
         "0",
         "1",
         "3",
         "1957",
         "1",
         "93442",
         "Segovia",
         "1385",
         "80",
         "1",
         "195",
         "0"
        ],
        [
         "1",
         "CLI100",
         "1",
         "1",
         "64",
         "1",
         "5",
         "0",
         "2",
         "2",
         "1960",
         "1",
         "99774",
         "Alicante",
         "1052",
         "50",
         "1",
         "360",
         "5.0"
        ],
        [
         "2",
         "CLI1000",
         "1",
         "1",
         "65",
         "1",
         "0",
         "0",
         "2",
         "3",
         "1959",
         "1",
         "36756",
         "Toledo",
         "1717",
         "30",
         "0",
         "407",
         "3.0"
        ],
        [
         "3",
         "CLI10000",
         "1",
         "0",
         "33",
         "0",
         "3",
         "1",
         "1",
         "4",
         "1991",
         "3",
         "24616",
         "Leon",
         "1606",
         "30",
         "0",
         "544",
         "4.0"
        ],
        [
         "4",
         "CLI10001",
         "1",
         "1",
         "52",
         "0",
         "7",
         "0",
         "2",
         "2",
         "1972",
         "1",
         "29834",
         "LLeida",
         "1346",
         "30",
         "1",
         "170",
         "0"
        ]
       ],
       "shape": {
        "columns": 18,
        "rows": 5
       }
      },
      "text/html": [
       "<div>\n",
       "<style scoped>\n",
       "    .dataframe tbody tr th:only-of-type {\n",
       "        vertical-align: middle;\n",
       "    }\n",
       "\n",
       "    .dataframe tbody tr th {\n",
       "        vertical-align: top;\n",
       "    }\n",
       "\n",
       "    .dataframe thead th {\n",
       "        text-align: right;\n",
       "    }\n",
       "</style>\n",
       "<table border=\"1\" class=\"dataframe\">\n",
       "  <thead>\n",
       "    <tr style=\"text-align: right;\">\n",
       "      <th></th>\n",
       "      <th>ID</th>\n",
       "      <th>Genero</th>\n",
       "      <th>Casado</th>\n",
       "      <th>Edad</th>\n",
       "      <th>Graduado</th>\n",
       "      <th>Profesion</th>\n",
       "      <th>Experiencia_laboral</th>\n",
       "      <th>Gastoscore</th>\n",
       "      <th>Family_Size</th>\n",
       "      <th>anno_nacimiento</th>\n",
       "      <th>Generacion</th>\n",
       "      <th>Ingresos_anuales_brutos</th>\n",
       "      <th>Provincia</th>\n",
       "      <th>Digital_encuesta</th>\n",
       "      <th>Gasto_medio_mensual_cuota</th>\n",
       "      <th>Abandono</th>\n",
       "      <th>Dias_cliente</th>\n",
       "      <th>Campanna_anno</th>\n",
       "    </tr>\n",
       "  </thead>\n",
       "  <tbody>\n",
       "    <tr>\n",
       "      <th>0</th>\n",
       "      <td>CLI10</td>\n",
       "      <td>0</td>\n",
       "      <td>1</td>\n",
       "      <td>67</td>\n",
       "      <td>1</td>\n",
       "      <td>4</td>\n",
       "      <td>0</td>\n",
       "      <td>1</td>\n",
       "      <td>3</td>\n",
       "      <td>1957</td>\n",
       "      <td>1</td>\n",
       "      <td>93442</td>\n",
       "      <td>Segovia</td>\n",
       "      <td>1385</td>\n",
       "      <td>80</td>\n",
       "      <td>1</td>\n",
       "      <td>195</td>\n",
       "      <td>0</td>\n",
       "    </tr>\n",
       "    <tr>\n",
       "      <th>1</th>\n",
       "      <td>CLI100</td>\n",
       "      <td>1</td>\n",
       "      <td>1</td>\n",
       "      <td>64</td>\n",
       "      <td>1</td>\n",
       "      <td>5</td>\n",
       "      <td>0</td>\n",
       "      <td>2</td>\n",
       "      <td>2</td>\n",
       "      <td>1960</td>\n",
       "      <td>1</td>\n",
       "      <td>99774</td>\n",
       "      <td>Alicante</td>\n",
       "      <td>1052</td>\n",
       "      <td>50</td>\n",
       "      <td>1</td>\n",
       "      <td>360</td>\n",
       "      <td>5.0</td>\n",
       "    </tr>\n",
       "    <tr>\n",
       "      <th>2</th>\n",
       "      <td>CLI1000</td>\n",
       "      <td>1</td>\n",
       "      <td>1</td>\n",
       "      <td>65</td>\n",
       "      <td>1</td>\n",
       "      <td>0</td>\n",
       "      <td>0</td>\n",
       "      <td>2</td>\n",
       "      <td>3</td>\n",
       "      <td>1959</td>\n",
       "      <td>1</td>\n",
       "      <td>36756</td>\n",
       "      <td>Toledo</td>\n",
       "      <td>1717</td>\n",
       "      <td>30</td>\n",
       "      <td>0</td>\n",
       "      <td>407</td>\n",
       "      <td>3.0</td>\n",
       "    </tr>\n",
       "    <tr>\n",
       "      <th>3</th>\n",
       "      <td>CLI10000</td>\n",
       "      <td>1</td>\n",
       "      <td>0</td>\n",
       "      <td>33</td>\n",
       "      <td>0</td>\n",
       "      <td>3</td>\n",
       "      <td>1</td>\n",
       "      <td>1</td>\n",
       "      <td>4</td>\n",
       "      <td>1991</td>\n",
       "      <td>3</td>\n",
       "      <td>24616</td>\n",
       "      <td>Leon</td>\n",
       "      <td>1606</td>\n",
       "      <td>30</td>\n",
       "      <td>0</td>\n",
       "      <td>544</td>\n",
       "      <td>4.0</td>\n",
       "    </tr>\n",
       "    <tr>\n",
       "      <th>4</th>\n",
       "      <td>CLI10001</td>\n",
       "      <td>1</td>\n",
       "      <td>1</td>\n",
       "      <td>52</td>\n",
       "      <td>0</td>\n",
       "      <td>7</td>\n",
       "      <td>0</td>\n",
       "      <td>2</td>\n",
       "      <td>2</td>\n",
       "      <td>1972</td>\n",
       "      <td>1</td>\n",
       "      <td>29834</td>\n",
       "      <td>LLeida</td>\n",
       "      <td>1346</td>\n",
       "      <td>30</td>\n",
       "      <td>1</td>\n",
       "      <td>170</td>\n",
       "      <td>0</td>\n",
       "    </tr>\n",
       "  </tbody>\n",
       "</table>\n",
       "</div>"
      ],
      "text/plain": [
       "         ID  Genero  Casado  Edad  Graduado  Profesion  Experiencia_laboral  \\\n",
       "0     CLI10       0       1    67         1          4                    0   \n",
       "1    CLI100       1       1    64         1          5                    0   \n",
       "2   CLI1000       1       1    65         1          0                    0   \n",
       "3  CLI10000       1       0    33         0          3                    1   \n",
       "4  CLI10001       1       1    52         0          7                    0   \n",
       "\n",
       "   Gastoscore  Family_Size  anno_nacimiento  Generacion  \\\n",
       "0           1            3             1957           1   \n",
       "1           2            2             1960           1   \n",
       "2           2            3             1959           1   \n",
       "3           1            4             1991           3   \n",
       "4           2            2             1972           1   \n",
       "\n",
       "   Ingresos_anuales_brutos Provincia  Digital_encuesta  \\\n",
       "0                    93442   Segovia              1385   \n",
       "1                    99774  Alicante              1052   \n",
       "2                    36756    Toledo              1717   \n",
       "3                    24616      Leon              1606   \n",
       "4                    29834    LLeida              1346   \n",
       "\n",
       "   Gasto_medio_mensual_cuota  Abandono  Dias_cliente Campanna_anno  \n",
       "0                         80         1           195             0  \n",
       "1                         50         1           360           5.0  \n",
       "2                         30         0           407           3.0  \n",
       "3                         30         0           544           4.0  \n",
       "4                         30         1           170             0  "
      ]
     },
     "execution_count": 44,
     "metadata": {},
     "output_type": "execute_result"
    }
   ],
   "source": [
    "df.head()"
   ]
  },
  {
   "cell_type": "code",
   "execution_count": 45,
   "metadata": {},
   "outputs": [
    {
     "data": {
      "text/plain": [
       "array(['Segovia', 'Alicante', 'Toledo', 'Leon', 'LLeida', 'Ciudad Real',\n",
       "       'Avila', 'Guipuzcoa', 'Vizcaya', 'Orense', 'Castellon',\n",
       "       'Pontevedra', 'Almeria', 'Valladolid', 'Jaen', 'Lugo',\n",
       "       'Santa Cruz de Tenerife', 'Albacete', 'Huelva', 'Salamanca',\n",
       "       'Ceuta', 'Baleares', 'Gerona', 'Barcelona', 'Sevilla',\n",
       "       'Guadalajara', 'Soria', 'Caceres', 'Madrid', 'Cordoba', 'Burgos',\n",
       "       'Navarra', 'Melilla', 'Granada', 'Badajoz', 'Valencia',\n",
       "       'Tarragona', 'La Corunna', 'Las Palmas', 'Murcia', 'Palencia',\n",
       "       'La Rioja', 'Teruel', 'Zamora', 'Zaragoza', 'Alava', 'Cuenca',\n",
       "       'Huesca', 'Cadiz', 'Malaga'], dtype=object)"
      ]
     },
     "execution_count": 45,
     "metadata": {},
     "output_type": "execute_result"
    }
   ],
   "source": [
    "# Diccionario de reemplazo\n",
    "reemplazos_provincias = {\n",
    "    'i\\x81vila': 'Avila',\n",
    "    'Guipiºzcoa': 'Guipuzcoa',\n",
    "    'Almeri\\xada': 'Almeria',\n",
    "    'La Corui±a': 'La Corunna',\n",
    "    'i\\x81lava': 'Alava'\n",
    "}\n",
    "\n",
    "# Reemplazo directo\n",
    "df['Provincia'] = df['Provincia'].replace(reemplazos_provincias)\n",
    "\n",
    "# Verifica\n",
    "df['Provincia'].unique()"
   ]
  },
  {
   "cell_type": "code",
   "execution_count": 46,
   "metadata": {},
   "outputs": [],
   "source": [
    "mapa_comunidad_autonoma = {\n",
    "    'Andalucia': ['Almeria', 'Jaen', 'Huelva', 'Sevilla', 'Cordoba', 'Granada', 'Malaga', 'Cadiz'],\n",
    "    'Aragon': ['Huesca', 'Teruel', 'Zaragoza'],\n",
    "    'Islas Baleares': ['Baleares'],\n",
    "    'Canarias': ['Las Palmas', 'Santa Cruz de Tenerife'],\n",
    "    'Castilla y Leon': ['Avila', 'Burgos', 'Leon', 'Palencia', 'Salamanca', 'Segovia', 'Soria', 'Valladolid', 'Zamora'],\n",
    "    'Castilla La Mancha': ['Albacete', 'Ciudad Real', 'Cuenca', 'Guadalajara', 'Toledo'],\n",
    "    'Catalunya': ['Barcelona', 'Gerona', 'LLeida', 'Tarragona'],\n",
    "    'Extremadura': ['Badajoz', 'Caceres'],\n",
    "    'Galicia': ['La Corunna', 'Lugo', 'Orense', 'Pontevedra'],\n",
    "    'Madrid': ['Madrid'],\n",
    "    'Murcia': ['Murcia'],\n",
    "    'Comunidad Valenciana': ['Alicante', 'Castellon', 'Valencia'],\n",
    "    'Navarra': ['Navarra'],\n",
    "    'Pais Vasco': ['Alava', 'Guipuzcoa', 'Vizcaya'],\n",
    "    'Rioja': ['La Rioja'],\n",
    "    'Ceuta y Melilla': ['Ceuta', 'Melilla'],\n",
    "\n",
    "}"
   ]
  },
  {
   "cell_type": "code",
   "execution_count": 47,
   "metadata": {},
   "outputs": [],
   "source": [
    "def assign_comunidad_autonoma(Provincia):\n",
    "    for comunidad, provincias in mapa_comunidad_autonoma.items():\n",
    "        if Provincia in provincias:\n",
    "            return comunidad\n",
    "    return 'Desconocida'"
   ]
  },
  {
   "cell_type": "code",
   "execution_count": 48,
   "metadata": {},
   "outputs": [
    {
     "data": {
      "text/plain": [
       "50"
      ]
     },
     "execution_count": 48,
     "metadata": {},
     "output_type": "execute_result"
    }
   ],
   "source": [
    "df['Provincia'].nunique()"
   ]
  },
  {
   "cell_type": "code",
   "execution_count": 49,
   "metadata": {},
   "outputs": [],
   "source": [
    "df['comunidad_autonoma'] = df['Provincia'].map(assign_comunidad_autonoma)"
   ]
  },
  {
   "cell_type": "code",
   "execution_count": 50,
   "metadata": {},
   "outputs": [
    {
     "data": {
      "text/plain": [
       "array(['Castilla y Leon', 'Comunidad Valenciana', 'Castilla La Mancha',\n",
       "       'Catalunya', 'Pais Vasco', 'Galicia', 'Andalucia', 'Canarias',\n",
       "       'Ceuta y Melilla', 'Islas Baleares', 'Extremadura', 'Madrid',\n",
       "       'Navarra', 'Murcia', 'Rioja', 'Aragon'], dtype=object)"
      ]
     },
     "execution_count": 50,
     "metadata": {},
     "output_type": "execute_result"
    }
   ],
   "source": [
    "df['comunidad_autonoma'].unique()"
   ]
  },
  {
   "cell_type": "code",
   "execution_count": 51,
   "metadata": {},
   "outputs": [
    {
     "name": "stdout",
     "output_type": "stream",
     "text": [
      "Lista de países con 'continent' como None:\n",
      "[]\n"
     ]
    }
   ],
   "source": [
    "provincia_sin_comunidad = df[df['comunidad_autonoma'].isnull()]['Provincia'].unique()\n",
    "\n",
    "# Mostrar la lista de países con 'continent' como None\n",
    "print(\"Lista de países con 'continent' como None:\")\n",
    "print(provincia_sin_comunidad)"
   ]
  },
  {
   "cell_type": "code",
   "execution_count": 52,
   "metadata": {},
   "outputs": [],
   "source": [
    "df.drop(columns=['Provincia'], inplace=True)  # Eliminar la columna 'Provincia'"
   ]
  },
  {
   "cell_type": "code",
   "execution_count": 53,
   "metadata": {},
   "outputs": [
    {
     "data": {
      "application/vnd.microsoft.datawrangler.viewer.v0+json": {
       "columns": [
        {
         "name": "index",
         "rawType": "int64",
         "type": "integer"
        },
        {
         "name": "ID",
         "rawType": "object",
         "type": "string"
        },
        {
         "name": "Genero",
         "rawType": "int32",
         "type": "integer"
        },
        {
         "name": "Casado",
         "rawType": "int32",
         "type": "integer"
        },
        {
         "name": "Edad",
         "rawType": "int64",
         "type": "integer"
        },
        {
         "name": "Graduado",
         "rawType": "int32",
         "type": "integer"
        },
        {
         "name": "Profesion",
         "rawType": "int32",
         "type": "integer"
        },
        {
         "name": "Experiencia_laboral",
         "rawType": "int32",
         "type": "integer"
        },
        {
         "name": "Gastoscore",
         "rawType": "int32",
         "type": "integer"
        },
        {
         "name": "Family_Size",
         "rawType": "int64",
         "type": "integer"
        },
        {
         "name": "anno_nacimiento",
         "rawType": "int64",
         "type": "integer"
        },
        {
         "name": "Generacion",
         "rawType": "int32",
         "type": "integer"
        },
        {
         "name": "Ingresos_anuales_brutos",
         "rawType": "int64",
         "type": "integer"
        },
        {
         "name": "Digital_encuesta",
         "rawType": "int64",
         "type": "integer"
        },
        {
         "name": "Gasto_medio_mensual_cuota",
         "rawType": "int64",
         "type": "integer"
        },
        {
         "name": "Abandono",
         "rawType": "int64",
         "type": "integer"
        },
        {
         "name": "Dias_cliente",
         "rawType": "int64",
         "type": "integer"
        },
        {
         "name": "Campanna_anno",
         "rawType": "object",
         "type": "string"
        },
        {
         "name": "comunidad_autonoma",
         "rawType": "object",
         "type": "string"
        }
       ],
       "conversionMethod": "pd.DataFrame",
       "ref": "e971045a-2acd-4990-ae72-6153582db098",
       "rows": [
        [
         "0",
         "CLI10",
         "0",
         "1",
         "67",
         "1",
         "4",
         "0",
         "1",
         "3",
         "1957",
         "1",
         "93442",
         "1385",
         "80",
         "1",
         "195",
         "0",
         "Castilla y Leon"
        ],
        [
         "1",
         "CLI100",
         "1",
         "1",
         "64",
         "1",
         "5",
         "0",
         "2",
         "2",
         "1960",
         "1",
         "99774",
         "1052",
         "50",
         "1",
         "360",
         "5.0",
         "Comunidad Valenciana"
        ],
        [
         "2",
         "CLI1000",
         "1",
         "1",
         "65",
         "1",
         "0",
         "0",
         "2",
         "3",
         "1959",
         "1",
         "36756",
         "1717",
         "30",
         "0",
         "407",
         "3.0",
         "Castilla La Mancha"
        ],
        [
         "3",
         "CLI10000",
         "1",
         "0",
         "33",
         "0",
         "3",
         "1",
         "1",
         "4",
         "1991",
         "3",
         "24616",
         "1606",
         "30",
         "0",
         "544",
         "4.0",
         "Castilla y Leon"
        ],
        [
         "4",
         "CLI10001",
         "1",
         "1",
         "52",
         "0",
         "7",
         "0",
         "2",
         "2",
         "1972",
         "1",
         "29834",
         "1346",
         "30",
         "1",
         "170",
         "0",
         "Catalunya"
        ]
       ],
       "shape": {
        "columns": 18,
        "rows": 5
       }
      },
      "text/html": [
       "<div>\n",
       "<style scoped>\n",
       "    .dataframe tbody tr th:only-of-type {\n",
       "        vertical-align: middle;\n",
       "    }\n",
       "\n",
       "    .dataframe tbody tr th {\n",
       "        vertical-align: top;\n",
       "    }\n",
       "\n",
       "    .dataframe thead th {\n",
       "        text-align: right;\n",
       "    }\n",
       "</style>\n",
       "<table border=\"1\" class=\"dataframe\">\n",
       "  <thead>\n",
       "    <tr style=\"text-align: right;\">\n",
       "      <th></th>\n",
       "      <th>ID</th>\n",
       "      <th>Genero</th>\n",
       "      <th>Casado</th>\n",
       "      <th>Edad</th>\n",
       "      <th>Graduado</th>\n",
       "      <th>Profesion</th>\n",
       "      <th>Experiencia_laboral</th>\n",
       "      <th>Gastoscore</th>\n",
       "      <th>Family_Size</th>\n",
       "      <th>anno_nacimiento</th>\n",
       "      <th>Generacion</th>\n",
       "      <th>Ingresos_anuales_brutos</th>\n",
       "      <th>Digital_encuesta</th>\n",
       "      <th>Gasto_medio_mensual_cuota</th>\n",
       "      <th>Abandono</th>\n",
       "      <th>Dias_cliente</th>\n",
       "      <th>Campanna_anno</th>\n",
       "      <th>comunidad_autonoma</th>\n",
       "    </tr>\n",
       "  </thead>\n",
       "  <tbody>\n",
       "    <tr>\n",
       "      <th>0</th>\n",
       "      <td>CLI10</td>\n",
       "      <td>0</td>\n",
       "      <td>1</td>\n",
       "      <td>67</td>\n",
       "      <td>1</td>\n",
       "      <td>4</td>\n",
       "      <td>0</td>\n",
       "      <td>1</td>\n",
       "      <td>3</td>\n",
       "      <td>1957</td>\n",
       "      <td>1</td>\n",
       "      <td>93442</td>\n",
       "      <td>1385</td>\n",
       "      <td>80</td>\n",
       "      <td>1</td>\n",
       "      <td>195</td>\n",
       "      <td>0</td>\n",
       "      <td>Castilla y Leon</td>\n",
       "    </tr>\n",
       "    <tr>\n",
       "      <th>1</th>\n",
       "      <td>CLI100</td>\n",
       "      <td>1</td>\n",
       "      <td>1</td>\n",
       "      <td>64</td>\n",
       "      <td>1</td>\n",
       "      <td>5</td>\n",
       "      <td>0</td>\n",
       "      <td>2</td>\n",
       "      <td>2</td>\n",
       "      <td>1960</td>\n",
       "      <td>1</td>\n",
       "      <td>99774</td>\n",
       "      <td>1052</td>\n",
       "      <td>50</td>\n",
       "      <td>1</td>\n",
       "      <td>360</td>\n",
       "      <td>5.0</td>\n",
       "      <td>Comunidad Valenciana</td>\n",
       "    </tr>\n",
       "    <tr>\n",
       "      <th>2</th>\n",
       "      <td>CLI1000</td>\n",
       "      <td>1</td>\n",
       "      <td>1</td>\n",
       "      <td>65</td>\n",
       "      <td>1</td>\n",
       "      <td>0</td>\n",
       "      <td>0</td>\n",
       "      <td>2</td>\n",
       "      <td>3</td>\n",
       "      <td>1959</td>\n",
       "      <td>1</td>\n",
       "      <td>36756</td>\n",
       "      <td>1717</td>\n",
       "      <td>30</td>\n",
       "      <td>0</td>\n",
       "      <td>407</td>\n",
       "      <td>3.0</td>\n",
       "      <td>Castilla La Mancha</td>\n",
       "    </tr>\n",
       "    <tr>\n",
       "      <th>3</th>\n",
       "      <td>CLI10000</td>\n",
       "      <td>1</td>\n",
       "      <td>0</td>\n",
       "      <td>33</td>\n",
       "      <td>0</td>\n",
       "      <td>3</td>\n",
       "      <td>1</td>\n",
       "      <td>1</td>\n",
       "      <td>4</td>\n",
       "      <td>1991</td>\n",
       "      <td>3</td>\n",
       "      <td>24616</td>\n",
       "      <td>1606</td>\n",
       "      <td>30</td>\n",
       "      <td>0</td>\n",
       "      <td>544</td>\n",
       "      <td>4.0</td>\n",
       "      <td>Castilla y Leon</td>\n",
       "    </tr>\n",
       "    <tr>\n",
       "      <th>4</th>\n",
       "      <td>CLI10001</td>\n",
       "      <td>1</td>\n",
       "      <td>1</td>\n",
       "      <td>52</td>\n",
       "      <td>0</td>\n",
       "      <td>7</td>\n",
       "      <td>0</td>\n",
       "      <td>2</td>\n",
       "      <td>2</td>\n",
       "      <td>1972</td>\n",
       "      <td>1</td>\n",
       "      <td>29834</td>\n",
       "      <td>1346</td>\n",
       "      <td>30</td>\n",
       "      <td>1</td>\n",
       "      <td>170</td>\n",
       "      <td>0</td>\n",
       "      <td>Catalunya</td>\n",
       "    </tr>\n",
       "  </tbody>\n",
       "</table>\n",
       "</div>"
      ],
      "text/plain": [
       "         ID  Genero  Casado  Edad  Graduado  Profesion  Experiencia_laboral  \\\n",
       "0     CLI10       0       1    67         1          4                    0   \n",
       "1    CLI100       1       1    64         1          5                    0   \n",
       "2   CLI1000       1       1    65         1          0                    0   \n",
       "3  CLI10000       1       0    33         0          3                    1   \n",
       "4  CLI10001       1       1    52         0          7                    0   \n",
       "\n",
       "   Gastoscore  Family_Size  anno_nacimiento  Generacion  \\\n",
       "0           1            3             1957           1   \n",
       "1           2            2             1960           1   \n",
       "2           2            3             1959           1   \n",
       "3           1            4             1991           3   \n",
       "4           2            2             1972           1   \n",
       "\n",
       "   Ingresos_anuales_brutos  Digital_encuesta  Gasto_medio_mensual_cuota  \\\n",
       "0                    93442              1385                         80   \n",
       "1                    99774              1052                         50   \n",
       "2                    36756              1717                         30   \n",
       "3                    24616              1606                         30   \n",
       "4                    29834              1346                         30   \n",
       "\n",
       "   Abandono  Dias_cliente Campanna_anno    comunidad_autonoma  \n",
       "0         1           195             0       Castilla y Leon  \n",
       "1         1           360           5.0  Comunidad Valenciana  \n",
       "2         0           407           3.0    Castilla La Mancha  \n",
       "3         0           544           4.0       Castilla y Leon  \n",
       "4         1           170             0             Catalunya  "
      ]
     },
     "execution_count": 53,
     "metadata": {},
     "output_type": "execute_result"
    }
   ],
   "source": [
    "df.head()"
   ]
  },
  {
   "cell_type": "code",
   "execution_count": 54,
   "metadata": {},
   "outputs": [
    {
     "data": {
      "text/plain": [
       "array([ 4,  7,  3,  5, 14,  9,  0,  2,  6, 10,  8, 11, 13, 12, 15,  1],\n",
       "      dtype=int8)"
      ]
     },
     "execution_count": 54,
     "metadata": {},
     "output_type": "execute_result"
    }
   ],
   "source": [
    "# Pasar comunidad_autonoma a numérico\n",
    "df['comunidad_autonoma'] = df['comunidad_autonoma'].astype('category').cat.codes\n",
    "df['comunidad_autonoma'].unique()\n"
   ]
  },
  {
   "cell_type": "code",
   "execution_count": 55,
   "metadata": {},
   "outputs": [
    {
     "data": {
      "application/vnd.microsoft.datawrangler.viewer.v0+json": {
       "columns": [
        {
         "name": "index",
         "rawType": "int64",
         "type": "integer"
        },
        {
         "name": "ID",
         "rawType": "object",
         "type": "string"
        },
        {
         "name": "Genero",
         "rawType": "int32",
         "type": "integer"
        },
        {
         "name": "Casado",
         "rawType": "int32",
         "type": "integer"
        },
        {
         "name": "Edad",
         "rawType": "float64",
         "type": "float"
        },
        {
         "name": "Graduado",
         "rawType": "int32",
         "type": "integer"
        },
        {
         "name": "Profesion",
         "rawType": "float64",
         "type": "float"
        },
        {
         "name": "Experiencia_laboral",
         "rawType": "int32",
         "type": "integer"
        },
        {
         "name": "Gastoscore",
         "rawType": "float64",
         "type": "float"
        },
        {
         "name": "Family_Size",
         "rawType": "float64",
         "type": "float"
        },
        {
         "name": "anno_nacimiento",
         "rawType": "float64",
         "type": "float"
        },
        {
         "name": "Generacion",
         "rawType": "float64",
         "type": "float"
        },
        {
         "name": "Ingresos_anuales_brutos",
         "rawType": "float64",
         "type": "float"
        },
        {
         "name": "Digital_encuesta",
         "rawType": "float64",
         "type": "float"
        },
        {
         "name": "Gasto_medio_mensual_cuota",
         "rawType": "float64",
         "type": "float"
        },
        {
         "name": "Abandono",
         "rawType": "int64",
         "type": "integer"
        },
        {
         "name": "Dias_cliente",
         "rawType": "float64",
         "type": "float"
        },
        {
         "name": "Campanna_anno",
         "rawType": "float64",
         "type": "float"
        },
        {
         "name": "comunidad_autonoma",
         "rawType": "float64",
         "type": "float"
        }
       ],
       "conversionMethod": "pd.DataFrame",
       "ref": "64dee489-9cdd-4674-bed7-cc6b8ef71fcd",
       "rows": [
        [
         "0",
         "CLI10",
         "0",
         "1",
         "1.0367187959428303",
         "1",
         "0.2735935435858335",
         "0",
         "-0.15359904864758453",
         "0.15347311457466806",
         "-1.0364931430515387",
         "-0.7377796750949571",
         "1.0525573631157916",
         "-0.10003391709767916",
         "1.226054639879935",
         "1",
         "-0.6927435632636887",
         "-0.8534275207363786",
         "-0.3117387305213183"
        ],
        [
         "1",
         "CLI100",
         "1",
         "1",
         "0.8736318852860478",
         "1",
         "0.6290353532987532",
         "0",
         "1.4684439168898589",
         "-0.4935129451833914",
         "-0.8734035155222132",
         "-0.7377796750949571",
         "1.2312657339494952",
         "-0.2558233929861882",
         "0.17013106035126344",
         "1",
         "0.41662569822506046",
         "1.6640592032666588",
         "0.38937345072384744"
        ],
        [
         "2",
         "CLI1000",
         "1",
         "1",
         "0.9279941888383088",
         "1",
         "-1.148173695265845",
         "0",
         "1.4684439168898589",
         "0.15347311457466806",
         "-0.9277667246986551",
         "-0.7377796750949571",
         "-0.5472946124178989",
         "0.05528772252690044",
         "-0.5338179926678509",
         "0",
         "0.7326278514976132",
         "0.6570645136654438",
         "-0.5454427909363735"
        ],
        [
         "3",
         "CLI10000",
         "1",
         "0",
         "-0.8115995248340387",
         "0",
         "-0.08184826612708611",
         "1",
         "-0.15359904864758453",
         "0.8004591743327275",
         "0.8118559689474832",
         "1.1820537298156713",
         "-0.8899224743763896",
         "0.0033578972307307525",
         "-0.5338179926678509",
         "0",
         "1.6537405110367565",
         "1.1605618584660513",
         "-0.3117387305213183"
        ],
        [
         "4",
         "CLI10001",
         "1",
         "1",
         "0.22128424265891755",
         "0",
         "1.3399189727245924",
         "0",
         "1.4684439168898589",
         "-0.4935129451833914",
         "-0.22104500540491137",
         "-0.7377796750949571",
         "-0.7426545844505738",
         "-0.11827953139092796",
         "-0.5338179926678509",
         "1",
         "-0.8608298150044082",
         "-0.8534275207363786",
         "-0.07803467010626305"
        ]
       ],
       "shape": {
        "columns": 18,
        "rows": 5
       }
      },
      "text/html": [
       "<div>\n",
       "<style scoped>\n",
       "    .dataframe tbody tr th:only-of-type {\n",
       "        vertical-align: middle;\n",
       "    }\n",
       "\n",
       "    .dataframe tbody tr th {\n",
       "        vertical-align: top;\n",
       "    }\n",
       "\n",
       "    .dataframe thead th {\n",
       "        text-align: right;\n",
       "    }\n",
       "</style>\n",
       "<table border=\"1\" class=\"dataframe\">\n",
       "  <thead>\n",
       "    <tr style=\"text-align: right;\">\n",
       "      <th></th>\n",
       "      <th>ID</th>\n",
       "      <th>Genero</th>\n",
       "      <th>Casado</th>\n",
       "      <th>Edad</th>\n",
       "      <th>Graduado</th>\n",
       "      <th>Profesion</th>\n",
       "      <th>Experiencia_laboral</th>\n",
       "      <th>Gastoscore</th>\n",
       "      <th>Family_Size</th>\n",
       "      <th>anno_nacimiento</th>\n",
       "      <th>Generacion</th>\n",
       "      <th>Ingresos_anuales_brutos</th>\n",
       "      <th>Digital_encuesta</th>\n",
       "      <th>Gasto_medio_mensual_cuota</th>\n",
       "      <th>Abandono</th>\n",
       "      <th>Dias_cliente</th>\n",
       "      <th>Campanna_anno</th>\n",
       "      <th>comunidad_autonoma</th>\n",
       "    </tr>\n",
       "  </thead>\n",
       "  <tbody>\n",
       "    <tr>\n",
       "      <th>0</th>\n",
       "      <td>CLI10</td>\n",
       "      <td>0</td>\n",
       "      <td>1</td>\n",
       "      <td>1.036719</td>\n",
       "      <td>1</td>\n",
       "      <td>0.273594</td>\n",
       "      <td>0</td>\n",
       "      <td>-0.153599</td>\n",
       "      <td>0.153473</td>\n",
       "      <td>-1.036493</td>\n",
       "      <td>-0.737780</td>\n",
       "      <td>1.052557</td>\n",
       "      <td>-0.100034</td>\n",
       "      <td>1.226055</td>\n",
       "      <td>1</td>\n",
       "      <td>-0.692744</td>\n",
       "      <td>-0.853428</td>\n",
       "      <td>-0.311739</td>\n",
       "    </tr>\n",
       "    <tr>\n",
       "      <th>1</th>\n",
       "      <td>CLI100</td>\n",
       "      <td>1</td>\n",
       "      <td>1</td>\n",
       "      <td>0.873632</td>\n",
       "      <td>1</td>\n",
       "      <td>0.629035</td>\n",
       "      <td>0</td>\n",
       "      <td>1.468444</td>\n",
       "      <td>-0.493513</td>\n",
       "      <td>-0.873404</td>\n",
       "      <td>-0.737780</td>\n",
       "      <td>1.231266</td>\n",
       "      <td>-0.255823</td>\n",
       "      <td>0.170131</td>\n",
       "      <td>1</td>\n",
       "      <td>0.416626</td>\n",
       "      <td>1.664059</td>\n",
       "      <td>0.389373</td>\n",
       "    </tr>\n",
       "    <tr>\n",
       "      <th>2</th>\n",
       "      <td>CLI1000</td>\n",
       "      <td>1</td>\n",
       "      <td>1</td>\n",
       "      <td>0.927994</td>\n",
       "      <td>1</td>\n",
       "      <td>-1.148174</td>\n",
       "      <td>0</td>\n",
       "      <td>1.468444</td>\n",
       "      <td>0.153473</td>\n",
       "      <td>-0.927767</td>\n",
       "      <td>-0.737780</td>\n",
       "      <td>-0.547295</td>\n",
       "      <td>0.055288</td>\n",
       "      <td>-0.533818</td>\n",
       "      <td>0</td>\n",
       "      <td>0.732628</td>\n",
       "      <td>0.657065</td>\n",
       "      <td>-0.545443</td>\n",
       "    </tr>\n",
       "    <tr>\n",
       "      <th>3</th>\n",
       "      <td>CLI10000</td>\n",
       "      <td>1</td>\n",
       "      <td>0</td>\n",
       "      <td>-0.811600</td>\n",
       "      <td>0</td>\n",
       "      <td>-0.081848</td>\n",
       "      <td>1</td>\n",
       "      <td>-0.153599</td>\n",
       "      <td>0.800459</td>\n",
       "      <td>0.811856</td>\n",
       "      <td>1.182054</td>\n",
       "      <td>-0.889922</td>\n",
       "      <td>0.003358</td>\n",
       "      <td>-0.533818</td>\n",
       "      <td>0</td>\n",
       "      <td>1.653741</td>\n",
       "      <td>1.160562</td>\n",
       "      <td>-0.311739</td>\n",
       "    </tr>\n",
       "    <tr>\n",
       "      <th>4</th>\n",
       "      <td>CLI10001</td>\n",
       "      <td>1</td>\n",
       "      <td>1</td>\n",
       "      <td>0.221284</td>\n",
       "      <td>0</td>\n",
       "      <td>1.339919</td>\n",
       "      <td>0</td>\n",
       "      <td>1.468444</td>\n",
       "      <td>-0.493513</td>\n",
       "      <td>-0.221045</td>\n",
       "      <td>-0.737780</td>\n",
       "      <td>-0.742655</td>\n",
       "      <td>-0.118280</td>\n",
       "      <td>-0.533818</td>\n",
       "      <td>1</td>\n",
       "      <td>-0.860830</td>\n",
       "      <td>-0.853428</td>\n",
       "      <td>-0.078035</td>\n",
       "    </tr>\n",
       "  </tbody>\n",
       "</table>\n",
       "</div>"
      ],
      "text/plain": [
       "         ID  Genero  Casado      Edad  Graduado  Profesion  \\\n",
       "0     CLI10       0       1  1.036719         1   0.273594   \n",
       "1    CLI100       1       1  0.873632         1   0.629035   \n",
       "2   CLI1000       1       1  0.927994         1  -1.148174   \n",
       "3  CLI10000       1       0 -0.811600         0  -0.081848   \n",
       "4  CLI10001       1       1  0.221284         0   1.339919   \n",
       "\n",
       "   Experiencia_laboral  Gastoscore  Family_Size  anno_nacimiento  Generacion  \\\n",
       "0                    0   -0.153599     0.153473        -1.036493   -0.737780   \n",
       "1                    0    1.468444    -0.493513        -0.873404   -0.737780   \n",
       "2                    0    1.468444     0.153473        -0.927767   -0.737780   \n",
       "3                    1   -0.153599     0.800459         0.811856    1.182054   \n",
       "4                    0    1.468444    -0.493513        -0.221045   -0.737780   \n",
       "\n",
       "   Ingresos_anuales_brutos  Digital_encuesta  Gasto_medio_mensual_cuota  \\\n",
       "0                 1.052557         -0.100034                   1.226055   \n",
       "1                 1.231266         -0.255823                   0.170131   \n",
       "2                -0.547295          0.055288                  -0.533818   \n",
       "3                -0.889922          0.003358                  -0.533818   \n",
       "4                -0.742655         -0.118280                  -0.533818   \n",
       "\n",
       "   Abandono  Dias_cliente  Campanna_anno  comunidad_autonoma  \n",
       "0         1     -0.692744      -0.853428           -0.311739  \n",
       "1         1      0.416626       1.664059            0.389373  \n",
       "2         0      0.732628       0.657065           -0.545443  \n",
       "3         0      1.653741       1.160562           -0.311739  \n",
       "4         1     -0.860830      -0.853428           -0.078035  "
      ]
     },
     "execution_count": 55,
     "metadata": {},
     "output_type": "execute_result"
    }
   ],
   "source": [
    "scaler = StandardScaler()\n",
    "\n",
    "numeric_cols = ['Edad', 'Ingresos_anuales_brutos', 'Digital_encuesta', 'Gasto_medio_mensual_cuota', 'Dias_cliente', 'Profesion', 'Family_Size', 'Generacion', 'Gastoscore', 'Campanna_anno', 'comunidad_autonoma', 'anno_nacimiento']\n",
    "df[numeric_cols] = scaler.fit_transform(df[numeric_cols])\n",
    "df.head()   "
   ]
  },
  {
   "cell_type": "code",
   "execution_count": 56,
   "metadata": {},
   "outputs": [],
   "source": [
    "df.to_csv('../data/clientes_preprocesado.csv', index=False)"
   ]
  }
 ],
 "metadata": {
  "kernelspec": {
   "display_name": "base",
   "language": "python",
   "name": "python3"
  },
  "language_info": {
   "codemirror_mode": {
    "name": "ipython",
    "version": 3
   },
   "file_extension": ".py",
   "mimetype": "text/x-python",
   "name": "python",
   "nbconvert_exporter": "python",
   "pygments_lexer": "ipython3",
   "version": "3.9.13"
  }
 },
 "nbformat": 4,
 "nbformat_minor": 2
}
